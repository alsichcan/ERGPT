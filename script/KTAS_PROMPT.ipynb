{
 "cells": [
  {
   "cell_type": "code",
   "execution_count": 309,
   "id": "e99e8086",
   "metadata": {},
   "outputs": [],
   "source": [
    "# imports\n",
    "import openai  # for calling the OpenAI API\n",
    "import pandas as pd  # for storing text and embeddings data\n",
    "import json"
   ]
  },
  {
   "cell_type": "code",
   "execution_count": 310,
   "id": "d149b920",
   "metadata": {
    "scrolled": true
   },
   "outputs": [
    {
     "data": {
      "text/html": [
       "<div>\n",
       "<style scoped>\n",
       "    .dataframe tbody tr th:only-of-type {\n",
       "        vertical-align: middle;\n",
       "    }\n",
       "\n",
       "    .dataframe tbody tr th {\n",
       "        vertical-align: top;\n",
       "    }\n",
       "\n",
       "    .dataframe thead th {\n",
       "        text-align: right;\n",
       "    }\n",
       "</style>\n",
       "<table border=\"1\" class=\"dataframe\">\n",
       "  <thead>\n",
       "    <tr style=\"text-align: right;\">\n",
       "      <th></th>\n",
       "      <th>Index</th>\n",
       "      <th>KTAS1_Group</th>\n",
       "      <th>KTAS1_Code</th>\n",
       "      <th>KTAS2_Group</th>\n",
       "      <th>KTAS2_Code</th>\n",
       "      <th>KTAS3_Group</th>\n",
       "      <th>KTAS3_Code</th>\n",
       "      <th>KTAS4_Group</th>\n",
       "      <th>KTAS4_Code</th>\n",
       "      <th>KTAS_CODE</th>\n",
       "      <th>KTAS_Level</th>\n",
       "    </tr>\n",
       "  </thead>\n",
       "  <tbody>\n",
       "    <tr>\n",
       "      <th>0</th>\n",
       "      <td>1</td>\n",
       "      <td>성인</td>\n",
       "      <td>A</td>\n",
       "      <td>물질오용</td>\n",
       "      <td>A</td>\n",
       "      <td>물질오용/중독</td>\n",
       "      <td>A</td>\n",
       "      <td>중증 호흡곤란</td>\n",
       "      <td>AA</td>\n",
       "      <td>AAAAA</td>\n",
       "      <td>1</td>\n",
       "    </tr>\n",
       "    <tr>\n",
       "      <th>1</th>\n",
       "      <td>2</td>\n",
       "      <td>성인</td>\n",
       "      <td>A</td>\n",
       "      <td>물질오용</td>\n",
       "      <td>A</td>\n",
       "      <td>물질오용/중독</td>\n",
       "      <td>A</td>\n",
       "      <td>쇼크</td>\n",
       "      <td>AB</td>\n",
       "      <td>AAAAB</td>\n",
       "      <td>1</td>\n",
       "    </tr>\n",
       "    <tr>\n",
       "      <th>2</th>\n",
       "      <td>3</td>\n",
       "      <td>성인</td>\n",
       "      <td>A</td>\n",
       "      <td>물질오용</td>\n",
       "      <td>A</td>\n",
       "      <td>물질오용/중독</td>\n",
       "      <td>A</td>\n",
       "      <td>무의식(GCS 3-8)</td>\n",
       "      <td>AC</td>\n",
       "      <td>AAAAC</td>\n",
       "      <td>1</td>\n",
       "    </tr>\n",
       "    <tr>\n",
       "      <th>3</th>\n",
       "      <td>4</td>\n",
       "      <td>성인</td>\n",
       "      <td>A</td>\n",
       "      <td>물질오용</td>\n",
       "      <td>A</td>\n",
       "      <td>물질오용/중독</td>\n",
       "      <td>A</td>\n",
       "      <td>중등도 호흡곤란</td>\n",
       "      <td>AD</td>\n",
       "      <td>AAAAD</td>\n",
       "      <td>2</td>\n",
       "    </tr>\n",
       "    <tr>\n",
       "      <th>4</th>\n",
       "      <td>5</td>\n",
       "      <td>성인</td>\n",
       "      <td>A</td>\n",
       "      <td>물질오용</td>\n",
       "      <td>A</td>\n",
       "      <td>물질오용/중독</td>\n",
       "      <td>A</td>\n",
       "      <td>혈역학적 장애</td>\n",
       "      <td>AE</td>\n",
       "      <td>AAAAE</td>\n",
       "      <td>2</td>\n",
       "    </tr>\n",
       "  </tbody>\n",
       "</table>\n",
       "</div>"
      ],
      "text/plain": [
       "   Index KTAS1_Group KTAS1_Code KTAS2_Group KTAS2_Code KTAS3_Group KTAS3_Code  \\\n",
       "0      1          성인          A        물질오용          A     물질오용/중독          A   \n",
       "1      2          성인          A        물질오용          A     물질오용/중독          A   \n",
       "2      3          성인          A        물질오용          A     물질오용/중독          A   \n",
       "3      4          성인          A        물질오용          A     물질오용/중독          A   \n",
       "4      5          성인          A        물질오용          A     물질오용/중독          A   \n",
       "\n",
       "    KTAS4_Group KTAS4_Code KTAS_CODE  KTAS_Level  \n",
       "0       중증 호흡곤란         AA     AAAAA           1  \n",
       "1            쇼크         AB     AAAAB           1  \n",
       "2  무의식(GCS 3-8)         AC     AAAAC           1  \n",
       "3      중등도 호흡곤란         AD     AAAAD           2  \n",
       "4       혈역학적 장애         AE     AAAAE           2  "
      ]
     },
     "execution_count": 310,
     "metadata": {},
     "output_type": "execute_result"
    }
   ],
   "source": [
    "embeddings_path = \"../data/KTAS_DATA.csv\"\n",
    "KTAS_df = pd.read_csv(embeddings_path, encoding='cp949')\n",
    "\n",
    "KTAS_df.head()"
   ]
  },
  {
   "cell_type": "markdown",
   "id": "43038574",
   "metadata": {},
   "source": [
    "# 환자 정보 확인"
   ]
  },
  {
   "cell_type": "code",
   "execution_count": 311,
   "id": "4f9cfaf4",
   "metadata": {
    "scrolled": true
   },
   "outputs": [
    {
     "name": "stdout",
     "output_type": "stream",
     "text": [
      "\n",
      "환자의 정보를 입력해주세요.\n",
      "성별, 연령, 증상, 기저질환, 의식 수준, 혈압, 맥박, 호흡 수, 체온\n",
      "예) 남성, 60, 쥐어짜는듯한 가슴 통증, 없음, 9, 120/80, 110, 16, 36.8\n",
      "여성, 80, 쥐어짜는듯한 가슴 통증, 고혈압, 12, 150/95, 88, 16, 37.8\n"
     ]
    },
    {
     "data": {
      "text/plain": [
       "'{\"성별\": \"여성\", \"연령\": \" 80\", \"증상\": \" 쥐어짜는듯한 가슴 통증\", \"기저질환\": \" 고혈압\", \"의식수준\": \" 12\", \"혈압\": \" 150/95\", \"맥박\": \" 88\", \"호흡 수\": \" 16\", \"체온\": \" 37.8\"}'"
      ]
     },
     "execution_count": 311,
     "metadata": {},
     "output_type": "execute_result"
    }
   ],
   "source": [
    "patient_data = dict()\n",
    "input_data = input(\"\"\"\n",
    "환자의 정보를 입력해주세요.\n",
    "성별, 연령, 증상, 기저질환, 의식 수준, 혈압, 맥박, 호흡 수, 체온\n",
    "예) 남성, 60, 쥐어짜는듯한 가슴 통증, 없음, 9, 120/80, 110, 16, 36.8\n",
    "\"\"\").split(',')\n",
    "\n",
    "patient_data[\"성별\"] = input_data[0]\n",
    "patient_data[\"연령\"] = input_data[1]\n",
    "patient_data[\"증상\"] = input_data[2]\n",
    "patient_data[\"기저질환\"] = input_data[3]\n",
    "patient_data[\"의식수준\"] = input_data[4]\n",
    "patient_data[\"혈압\"] = input_data[5]\n",
    "patient_data[\"맥박\"] = input_data[6]\n",
    "patient_data[\"호흡 수\"] = input_data[7]\n",
    "patient_data[\"체온\"] = input_data[8]\n",
    "\n",
    "json.dumps(patient_data,ensure_ascii=False)"
   ]
  },
  {
   "cell_type": "markdown",
   "id": "7fa14920",
   "metadata": {},
   "source": [
    "# KTAS_1단계 검증"
   ]
  },
  {
   "cell_type": "code",
   "execution_count": 312,
   "id": "09bc0dd3",
   "metadata": {},
   "outputs": [
    {
     "name": "stdout",
     "output_type": "stream",
     "text": [
      "['물질오용', '정신건강', '신경과', '안과', '코질환', '귀질환', '이비인후과-입,인후,경부', '호흡기', '심혈관', '소화기', '산부인과', '비뇨기과', '정형외과', '외상', '환경손상', '피부', '일반']\n"
     ]
    }
   ],
   "source": [
    "if int(patient_data[\"연령\"]) >= 15:\n",
    "    KTAS1_df = df[df['KTAS1_Code'] == 'A']\n",
    "else:\n",
    "    KTAS1_df = df[df['KTAS1_Code'] == 'B']\n",
    "    \n",
    "group2 = KTAS1_df['KTAS2_Group'].unique().tolist()\n",
    "print(group2)"
   ]
  },
  {
   "cell_type": "markdown",
   "id": "34177ceb",
   "metadata": {},
   "source": [
    "# KTAS_2단계 검증"
   ]
  },
  {
   "cell_type": "code",
   "execution_count": 313,
   "id": "0a6222b3",
   "metadata": {},
   "outputs": [],
   "source": [
    "KTAS2_Question = '''\n",
    "너는 응급 환자의 중증도를 판단해야하는 구급대원이야.\n",
    "한국의 응급의료 분야에서 사용되는 KTAS(Korean Triage and Acuity Scale) 분류 체계에 따라 분류해야해.\n",
    "\n",
    "입력값: 환자 정보, KTAS 옵션\n",
    "\n",
    "결과값: option, probability, reason을 포함하는 JSON 객체\n",
    "- option: 가장 가능성이 높은 KTAS 옵션\n",
    "- probability: 해당 KTAS 옵션이 맞을 확률 (0<=probability<=1)\n",
    "- reason: 선정 이유 (자세하게 설명할 것)\n",
    "\n",
    "\n",
    "주의 사항:\n",
    "- 만약 주어진 정보 안에서 가능성이 높은 옵션이 없다면, \"환자 증상을 더 자세히 작성해주세요\"를 출력할 것\n",
    "'''"
   ]
  },
  {
   "cell_type": "code",
   "execution_count": 314,
   "id": "e4e89cd5",
   "metadata": {
    "scrolled": true
   },
   "outputs": [
    {
     "name": "stdout",
     "output_type": "stream",
     "text": [
      "{\"option\": \"심혈관\", \"probability\": 0.9, \"reason\": \"환자의 주증상인 쥐어짜는듯한 가슴 통증과 기저질환인 고혈압을 고려할 때, 심혈관 관련 질환으로 분류될 가능성이 높습니다. 또한, 환자의 연령이 80세로 고령이므로 심혈관 질환 발생 가능성이 높아집니다. 혈압이 150/95로 상승하였으며 맥박이 88으로 비정상적인 수치를 보이고 있습니다. 이러한 이유로 심혈관 질환으로 분류될 가능성이 높습니다.\"}\n",
      "{'option': '심혈관', 'probability': 0.9, 'reason': '환자의 주증상인 쥐어짜는듯한 가슴 통증과 기저질환인 고혈압을 고려할 때, 심혈관 관련 질환으로 분류될 가능성이 높습니다. 또한, 환자의 연령이 80세로 고령이므로 심혈관 질환 발생 가능성이 높아집니다. 혈압이 150/95로 상승하였으며 맥박이 88으로 비정상적인 수치를 보이고 있습니다. 이러한 이유로 심혈관 질환으로 분류될 가능성이 높습니다.'}\n"
     ]
    }
   ],
   "source": [
    "KTAS2_Response = openai.ChatCompletion.create(\n",
    "  model=\"gpt-3.5-turbo\",\n",
    "  messages=[\n",
    "    {\n",
    "      \"role\": \"system\",\n",
    "      \"content\": KTAS2_Question\n",
    "    },\n",
    "    {\n",
    "      \"role\": \"user\",\n",
    "      \"content\": \"환자 정보는 다음과 같습니다.\\n\" + json.dumps(patient_data,ensure_ascii=False)\n",
    "    },\n",
    "    {\n",
    "      \"role\": \"user\",\n",
    "      \"content\": \"KTAS 내 주증상 군은 다음과 같습니다. \\n\" + ', '.join(group2)\n",
    "    }\n",
    "  ],\n",
    "  temperature=0,\n",
    "  max_tokens=3000\n",
    ")\n",
    "print(KTAS2_Response.get(\"choices\")[0].get(\"message\").get(\"content\"))\n",
    "KTAS2_ANSWER = json.loads(KTAS2_Response.get(\"choices\")[0].get(\"message\").get(\"content\"))\n",
    "print(KTAS2_ANSWER)"
   ]
  },
  {
   "cell_type": "code",
   "execution_count": 315,
   "id": "8cf19a18",
   "metadata": {},
   "outputs": [
    {
     "name": "stdout",
     "output_type": "stream",
     "text": [
      "심혈관\n"
     ]
    }
   ],
   "source": [
    "print(KTAS2_ANSWER['option'])"
   ]
  },
  {
   "cell_type": "markdown",
   "id": "de369d73",
   "metadata": {},
   "source": [
    "# KTAS_3단계 검증"
   ]
  },
  {
   "cell_type": "code",
   "execution_count": 316,
   "id": "ec06ae88",
   "metadata": {},
   "outputs": [
    {
     "name": "stdout",
     "output_type": "stream",
     "text": [
      "['심정지(비외상성)', '심정지(외상성)', '흉통(심인성)', '흉통(비 심인성)', '심계항진/불규칙 심장박동', '고혈압', '전신쇠약', '실신/전-실신', '전신성부종', '양측성 다리부기/부종', '사지 말단부위에 맥박이 없고 차가움', '일측성의 홍조 띈 뜨거운 사지']\n"
     ]
    }
   ],
   "source": [
    "# 가장 가능성 높은 KTAS2 분류로 필터링한다.\n",
    "KTAS2_df = KTAS1_df[KTAS1_df['KTAS2_Group'] == KTAS2_ANSWER['option']]\n",
    "KTAS2_df.head()\n",
    "\n",
    "group3 = KTAS2_df['KTAS3_Group'].unique().tolist()\n",
    "print(group3)"
   ]
  },
  {
   "cell_type": "code",
   "execution_count": 317,
   "id": "9ee6dfae",
   "metadata": {},
   "outputs": [],
   "source": [
    "KTAS3_Question = f'''\n",
    "너는 응급 환자의 중증도를 판단해야하는 구급대원이야.\n",
    "한국의 응급의료 분야에서 사용되는 KTAS(Korean Triage and Acuity Scale) 분류 체계에 따라 분류해야해.\n",
    "\n",
    "입력값: 환자 정보, KTAS 1차 고려사항 옵션\n",
    "\n",
    "결과값: option, probability, reason을 포함하는 JSON 객체\n",
    "- option: 가장 가능성이 높은 KTAS 1차 고려사항 옵션\n",
    "- probability: 해당 KTAS 1차 고려사항이 맞을 확률 (0<=probability<=1)\n",
    "- reason: 선정 이유 (자세하게 설명할 것)\n",
    "\n",
    "주의 사항:\n",
    "- 만약 주어진 정보 안에서 가능성이 높은 옵션이 없다면, \"환자 증상을 더 자세히 작성해주세요\"를 출력할 것\n",
    "'''"
   ]
  },
  {
   "cell_type": "code",
   "execution_count": 318,
   "id": "5958a13d",
   "metadata": {},
   "outputs": [
    {
     "name": "stdout",
     "output_type": "stream",
     "text": [
      "{'option': '열', 'probability': 0.8, 'reason': '환자의 체온이 37.3도로 정상체온 범위를 넘어섰습니다. 또한, 환자의 증상으로는 목 통증이 있습니다. 목 통증은 일반적으로 열과 관련이 있을 수 있으며, 열은 전염성 질환의 증상일 수 있습니다. 따라서, 열이 가장 가능성이 높은 1차 고려사항입니다.'}\n",
      "{'option': '흉통(심인성)', 'probability': 0.8, 'reason': '환자의 주요 증상인 쥐어짜는듯한 가슴 통증과 함께 고혈압, 심장 박동 수의 증가가 관찰되었습니다. 이는 심혈관 질환과 관련된 심인성 흉통의 가능성을 높입니다. 추가적인 정보를 수집하여 KTAS 1차 고려사항을 최종적으로 판단해야 합니다.'}\n"
     ]
    }
   ],
   "source": [
    "KTAS3_Response = openai.ChatCompletion.create(\n",
    "  model=\"gpt-3.5-turbo\",\n",
    "  messages=[\n",
    "    {\n",
    "      \"role\": \"system\",\n",
    "      \"content\": KTAS3_Question\n",
    "    },\n",
    "    {\n",
    "      \"role\": \"user\",\n",
    "      \"content\": \"환자 정보는 다음과 같습니다.\\n\" + json.dumps(patient_data,ensure_ascii=False)\n",
    "    },\n",
    "    {\n",
    "      \"role\": \"user\",\n",
    "      \"content\": f\"{KTAS2_ANSWER['option']}의 1차 고려사항은 다음과 같습니다. \\n\" + ', '.join(group3)\n",
    "    }\n",
    "  ],\n",
    "  temperature=0,\n",
    "  max_tokens=3000\n",
    ")\n",
    "print(KTAS3_ANSWER)\n",
    "KTAS3_ANSWER = json.loads(KTAS3_Response.get(\"choices\")[0].get(\"message\").get(\"content\"))\n",
    "print(KTAS3_ANSWER)"
   ]
  },
  {
   "cell_type": "markdown",
   "id": "9576207f",
   "metadata": {},
   "source": [
    "# KTAS_4단계 검증"
   ]
  },
  {
   "cell_type": "code",
   "execution_count": 319,
   "id": "7ea4b1af",
   "metadata": {},
   "outputs": [
    {
     "name": "stdout",
     "output_type": "stream",
     "text": [
      "['중증 호흡곤란', '쇼크', '무의식(GCS 3-8)', '중등도 호흡곤란', '혈역학적 장애', '의식변화(GCS 9-13)', '열,면역억제 상태', '패혈증 의증(3 SIRS 기준만족)', '급성 중심성 중증 통증(8-10)', '심인성 통증']\n"
     ]
    }
   ],
   "source": [
    "# 가장 가능성 높은 KTAS2 분류로 필터링한다.\n",
    "KTAS3_df = KTAS2_df[KTAS2_df['KTAS3_Group'] == KTAS3_ANSWER['option']]\n",
    "\n",
    "group4 = KTAS3_df['KTAS4_Group'].unique().tolist()\n",
    "print(group4)"
   ]
  },
  {
   "cell_type": "code",
   "execution_count": 320,
   "id": "e5f513b0",
   "metadata": {},
   "outputs": [],
   "source": [
    "KTAS4_Question = f'''\n",
    "너는 응급 환자의 중증도를 판단해야하는 구급대원이야.\n",
    "한국의 응급의료 분야에서 사용되는 KTAS(Korean Triage and Acuity Scale) 분류 체계에 따라 분류해야해.\n",
    "\n",
    "입력값: 환자 정보, KTAS 2차 고려사항 옵션\n",
    "\n",
    "결과값: option, probability, reason을 포함하는 JSON 객체\n",
    "- option: 가장 가능성이 높은 KTAS 2차 고려사항 옵션\n",
    "- probability: 해당 KTAS 2차 고려사항이 맞을 확률 (0<=probability<=1)\n",
    "- reason: 선정 이유 (자세하게 설명할 것)\n",
    "\n",
    "주의 사항:\n",
    "- 만약 주어진 정보 안에서 가능성이 높은 옵션이 없다면, \"환자 증상을 더 자세히 작성해주세요\"를 출력할 것\n",
    "'''"
   ]
  },
  {
   "cell_type": "code",
   "execution_count": 321,
   "id": "f4fc8ede",
   "metadata": {},
   "outputs": [
    {
     "name": "stdout",
     "output_type": "stream",
     "text": [
      "{'option': '열', 'probability': 0.8, 'reason': '환자의 체온이 37.3도로 정상 범위를 넘어섰으며, 목 통증과 함께 증상이 나타나 있습니다. 따라서 열이 가장 가능성이 높은 2차 고려사항입니다.'}\n",
      "{'option': '중증 호흡곤란', 'probability': 0.8, 'reason': '환자의 증상으로 쥐어짜는 듯한 가슴 통증이 있으며, 혈압이 상승하고 호흡수가 정상 범위에 있지만 의식 수준이 낮아 중증 호흡곤란이 의심됩니다. 이는 심혈관 중 흉통으로 인한 심장 기능 저하로 인해 발생할 수 있습니다.'}\n"
     ]
    }
   ],
   "source": [
    "KTAS4_Response = openai.ChatCompletion.create(\n",
    "  model=\"gpt-3.5-turbo\",\n",
    "  messages=[\n",
    "    {\n",
    "      \"role\": \"system\",\n",
    "      \"content\": KTAS3_Question\n",
    "    },\n",
    "    {\n",
    "      \"role\": \"user\",\n",
    "      \"content\": \"환자 정보는 다음과 같습니다.\\n\" + json.dumps(patient_data,ensure_ascii=False)\n",
    "    },\n",
    "    {\n",
    "      \"role\": \"user\",\n",
    "      \"content\": f\"현재 {KTAS2_ANSWER['option']} 중 {KTAS3_ANSWER['option']}으로 판단하고 있습니다.\"\n",
    "    },\n",
    "    {\n",
    "      \"role\": \"user\",\n",
    "      \"content\": \"가능한 2차 고려사항은 다음과 같습니다. \\n\" + ', '.join(group4)\n",
    "    }\n",
    "  ],\n",
    "  temperature=0,\n",
    "  max_tokens=3000\n",
    ")\n",
    "print(KTAS4_ANSWER)\n",
    "KTAS4_ANSWER = json.loads(KTAS4_Response.get(\"choices\")[0].get(\"message\").get(\"content\"))\n",
    "print(KTAS4_ANSWER)"
   ]
  },
  {
   "cell_type": "markdown",
   "id": "52104f09",
   "metadata": {},
   "source": [
    "# 최종 결과 도출"
   ]
  },
  {
   "cell_type": "code",
   "execution_count": 322,
   "id": "92908798",
   "metadata": {},
   "outputs": [],
   "source": [
    "KTAS_LEVEL = {\n",
    "    1 : \"즉각적인 처치가 필요하며 생명이나 사지를 위협하는(또는 악화 가능성이 높은) 상태\",\n",
    "    2 : \"생명 혹은 사지, 신체기능에 잠재적인 위협이 있으며 이에 대한 빠른 치료가 필요한 경우\",\n",
    "    3 : \"치료가 필요한 상태로 진행할 수도 있는 잠재적 가능성을 고려해야 하는 경우\",\n",
    "    4 : \"환자의 나이, 통증이나 악화/합병증에 대한 가능성을 고려할 때 1~2시간 안에 처치나 재평가를 시행하면 되는 상태\",\n",
    "    5 : \"긴급하지만 응급은 아닌 상태, 만성적인 문제로 인한 것이거나, 악화의 가능성이 낮은 상태\"\n",
    "}"
   ]
  },
  {
   "cell_type": "code",
   "execution_count": 323,
   "id": "e4bcbf15",
   "metadata": {},
   "outputs": [
    {
     "name": "stdout",
     "output_type": "stream",
     "text": [
      "\n",
      "응급 환자 상태: {\"성별\": \"여성\", \"연령\": \" 80\", \"증상\": \" 쥐어짜는듯한 가슴 통증\", \"기저질환\": \" 고혈압\", \"의식수준\": \" 12\", \"혈압\": \" 150/95\", \"맥박\": \" 88\", \"호흡 수\": \" 16\", \"체온\": \" 37.8\"}\n",
      "\n",
      "KTAS 분류 내용: AICAA : 심혈관 - 흉통(심인성) - 중증 호흡곤란\n",
      "\n",
      "KTAS 분류 등급: 1등급: 즉각적인 처치가 필요하며 생명이나 사지를 위협하는(또는 악화 가능성이 높은) 상태\n",
      "\n",
      "KTAS 판단 근거1: 환자의 주증상인 쥐어짜는듯한 가슴 통증과 기저질환인 고혈압을 고려할 때, 심혈관 관련 질환으로 분류될 가능성이 높습니다. 또한, 환자의 연령이 80세로 고령이므로 심혈관 질환 발생 가능성이 높아집니다. 혈압이 150/95로 상승하였으며 맥박이 88으로 비정상적인 수치를 보이고 있습니다. 이러한 이유로 심혈관 질환으로 분류될 가능성이 높습니다.\n",
      "\n",
      "KTAS 판단 근거2: 환자의 주요 증상인 쥐어짜는듯한 가슴 통증과 함께 고혈압, 심장 박동 수의 증가가 관찰되었습니다. 이는 심혈관 질환과 관련된 심인성 흉통의 가능성을 높입니다. 추가적인 정보를 수집하여 KTAS 1차 고려사항을 최종적으로 판단해야 합니다.\n",
      "\n",
      "KTAS 판단 근거3: 환자의 증상으로 쥐어짜는 듯한 가슴 통증이 있으며, 혈압이 상승하고 호흡수가 정상 범위에 있지만 의식 수준이 낮아 중증 호흡곤란이 의심됩니다. 이는 심혈관 중 흉통으로 인한 심장 기능 저하로 인해 발생할 수 있습니다.\n",
      "\n"
     ]
    }
   ],
   "source": [
    "# 가장 가능성 높은 KTAS2 분류로 필터링한다.\n",
    "KTAS4_df = KTAS3_df[KTAS3_df['KTAS4_Group'] == KTAS4_ANSWER['option']]\n",
    "\n",
    "KTAS = KTAS4_df.iloc[0].to_dict()\n",
    "\n",
    "KTAS\n",
    "\n",
    "FINAL_MESSAGE = f'''\n",
    "응급 환자 상태: {json.dumps(patient_data,ensure_ascii=False)}\n",
    "\n",
    "KTAS 분류 내용: {KTAS['KTAS_CODE']} : {KTAS['KTAS2_Group']} - {KTAS['KTAS3_Group']} - {KTAS['KTAS4_Group']}\n",
    "\n",
    "KTAS 분류 등급: {KTAS['KTAS_Level']}등급: {KTAS_LEVEL[KTAS['KTAS_Level']]}\n",
    "\n",
    "KTAS 판단 근거1: {KTAS2_ANSWER['reason']}\n",
    "\n",
    "KTAS 판단 근거2: {KTAS3_ANSWER['reason']}\n",
    "\n",
    "KTAS 판단 근거3: {KTAS4_ANSWER['reason']}\n",
    "'''\n",
    "\n",
    "print(FINAL_MESSAGE)"
   ]
  },
  {
   "cell_type": "code",
   "execution_count": null,
   "id": "01554d48",
   "metadata": {},
   "outputs": [],
   "source": []
  }
 ],
 "metadata": {
  "kernelspec": {
   "display_name": "Python 3 (ipykernel)",
   "language": "python",
   "name": "python3"
  },
  "language_info": {
   "codemirror_mode": {
    "name": "ipython",
    "version": 3
   },
   "file_extension": ".py",
   "mimetype": "text/x-python",
   "name": "python",
   "nbconvert_exporter": "python",
   "pygments_lexer": "ipython3",
   "version": "3.10.9"
  }
 },
 "nbformat": 4,
 "nbformat_minor": 5
}
